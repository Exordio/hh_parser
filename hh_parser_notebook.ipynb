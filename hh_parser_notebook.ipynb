{
 "cells": [
  {
   "cell_type": "code",
   "execution_count": 22,
   "metadata": {
    "scrolled": true
   },
   "outputs": [
    {
     "name": "stdout",
     "output_type": "stream",
     "text": [
      "OK\n"
     ]
    }
   ],
   "source": [
    "from http.cookiejar import request_host\n",
    "\n",
    "import requests\n",
    "import pandas as pd\n",
    "from bs4 import BeautifulSoup as bs\n",
    "\n",
    "\n",
    "#emulaciya povedeniya brauzera\n",
    "headers = {'accept': '*/*',\n",
    "           'user-agent': 'Mozilla/5.0 (Windows NT 10.0; Win64; x64; rv:72.0) Gecko/20100101 Firefox/72.0'}\n",
    "\n",
    "base_Url = 'https://hh.ru/search/vacancy?area=1&st=searchVacancy&text=Junior+python+developer&from=suggest_post'\n",
    "\n",
    "def hh_Parse(base_url, headers):\n",
    "    session = requests.Session();\n",
    "    request = session.get(base_url, headers=headers)\n",
    "    if request.status_code == 200:\n",
    "        print('OK')\n",
    "        soup = bs(request.content, 'html.parser')\n",
    "        divs = soup.find_all('div', attrs = {'data-qa': 'vacancy-serp__vacancy'})\n",
    "\n",
    "        colum_Names = ['name_Vacancy', 'name_Company', 'vacancy_Link', 'vacancy_Payday']\n",
    "\n",
    "        vacancy_DF = pd.DataFrame(columns = colum_Names)\n",
    "\n",
    "        for div in divs:\n",
    "            name_Vacancy = div.find('a', attrs = {'data-qa': 'vacancy-serp__vacancy-title'}).text\n",
    "            name_Company = div.find('a', attrs = {'data-qa': 'vacancy-serp__vacancy-employer'}).text\n",
    "            link = div.find('a', attrs = {'data-qa': 'vacancy-serp__vacancy-title'})['href']\n",
    "            try:\n",
    "                payday = div.find('div', attrs = {'class' : 'vacancy-serp-item__compensation'}).text\n",
    "            except AttributeError:\n",
    "                payday = div.find('div', attrs={'class': 'vacancy-serp-item__compensation'})\n",
    "\n",
    "            vacancy_DF.loc[len(vacancy_DF)] = [name_Vacancy, name_Company, link, payday]\n",
    "            #print(\"{} | {} | {} | {}\".format(name_Vacancy, payday, name_Company, link))\n",
    "            \n",
    "        #print(vacancy_DF)\n",
    "        vacancy_DF.to_csv('vacancyCSV.csv', index = False, sep=\"\\t\", encoding=\"UTF-8\")\n",
    "    else:\n",
    "        print('ERROR')\n",
    "\n",
    "hh_Parse(base_Url, headers)\n"
   ]
  },
  {
   "cell_type": "code",
   "execution_count": 23,
   "metadata": {},
   "outputs": [],
   "source": [
    "x = pd.read_csv('vacancyCSV.csv', sep = '\\t', encoding = 'UTF-8')"
   ]
  },
  {
   "cell_type": "code",
   "execution_count": 25,
   "metadata": {},
   "outputs": [
    {
     "name": "stdout",
     "output_type": "stream",
     "text": [
      "                                         name_Vacancy  \\\n",
      "0                               Junior Data scientist   \n",
      "1                              Junior DevOps Engineer   \n",
      "2                Разработчик Python (middle / junior)   \n",
      "3                      Junior Quantitative Researcher   \n",
      "4                           Junior python-разработчик   \n",
      "5                          Младший программист Python   \n",
      "6   Инженер-программист ( front-end developer ) ju...   \n",
      "7                  Junior Quant Trader / C# Developer   \n",
      "8                Младший бэк-энд разработчик (Python)   \n",
      "9          Middle Frontend developer / React, Next.js   \n",
      "10                       Frontend-разработчик (React)   \n",
      "11                                 Программист Python   \n",
      "12            Программист-разработчик Python (junior)   \n",
      "13                       Frontend разработчик (React)   \n",
      "14                  NLP engineer / Data scientist NLP   \n",
      "15                                    PHP-программист   \n",
      "16                           Веб-программист (Junior)   \n",
      "17  Data Scientist (PVH: Tommy Hilfiger / Calvin K...   \n",
      "18          Младший С++ разработчик (computer vision)   \n",
      "19                                 Junior-разработчик   \n",
      "\n",
      "                                         name_Company  \\\n",
      "0                                 ООО МФК Займ Онлайн   \n",
      "1                                    Black Wall Group   \n",
      "2                                 ООО Инспектор Клауд   \n",
      "3                                    ООО КВАНТПОРТРУС   \n",
      "4                                              BR Lab   \n",
      "5                                                QIWI   \n",
      "6    Институт прикладных экономических исследовани...   \n",
      "7                                         ООО НОВОТЕХ   \n",
      "8    Институт прикладных экономических исследовани...   \n",
      "9                                           KRK Group   \n",
      "10                                          ООО РАБЛЗ   \n",
      "11                                           Group-IB   \n",
      "12               Ростелеком - Центры обработки данных   \n",
      "13                                 АО Семейный доктор   \n",
      "14                                       ООО АлгоМост   \n",
      "15                                       ООО Флекскор   \n",
      "16                           Группа компаний «Триумф»   \n",
      "17                             Nicotech International   \n",
      "18                                              ABBYY   \n",
      "19                                            AWATERA   \n",
      "\n",
      "                                         vacancy_Link        vacancy_Payday  \n",
      "0   https://pushkino.hh.ru/vacancy/35218725?query=...                   NaN  \n",
      "1   https://pushkino.hh.ru/vacancy/34980785?query=...   90 000-120 000 руб.  \n",
      "2   https://pushkino.hh.ru/vacancy/35249707?query=...   70 000-160 000 руб.  \n",
      "3   https://pushkino.hh.ru/vacancy/31844648?query=...  250 000-250 000 руб.  \n",
      "4   https://pushkino.hh.ru/vacancy/35214048?query=...    40 000-80 000 руб.  \n",
      "5   https://pushkino.hh.ru/vacancy/35189679?query=...                   NaN  \n",
      "6   https://pushkino.hh.ru/vacancy/32697772?query=...  100 000-140 000 руб.  \n",
      "7   https://pushkino.hh.ru/vacancy/35168169?query=...                   NaN  \n",
      "8   https://pushkino.hh.ru/vacancy/31240024?query=...   80 000-110 000 руб.  \n",
      "9   https://pushkino.hh.ru/vacancy/34933455?query=...  110 000-160 000 руб.  \n",
      "10  https://pushkino.hh.ru/vacancy/35045919?query=...   80 000-180 000 руб.  \n",
      "11  https://pushkino.hh.ru/vacancy/33599858?query=...                   NaN  \n",
      "12  https://pushkino.hh.ru/vacancy/35028427?query=...                   NaN  \n",
      "13  https://pushkino.hh.ru/vacancy/33696353?query=...   80 000-200 000 руб.  \n",
      "14  https://pushkino.hh.ru/vacancy/35231626?query=...  100 000-250 000 руб.  \n",
      "15  https://pushkino.hh.ru/vacancy/35198599?query=...    40 000-90 000 руб.  \n",
      "16  https://pushkino.hh.ru/vacancy/25474707?query=...                   NaN  \n",
      "17  https://pushkino.hh.ru/vacancy/35193245?query=...                   NaN  \n",
      "18  https://pushkino.hh.ru/vacancy/34992606?query=...                   NaN  \n",
      "19  https://pushkino.hh.ru/vacancy/35174373?query=...                   NaN  \n"
     ]
    }
   ],
   "source": [
    "print(x)"
   ]
  }
 ],
 "metadata": {
  "kernelspec": {
   "display_name": "Python 3",
   "language": "python",
   "name": "python3"
  },
  "language_info": {
   "codemirror_mode": {
    "name": "ipython",
    "version": 3
   },
   "file_extension": ".py",
   "mimetype": "text/x-python",
   "name": "python",
   "nbconvert_exporter": "python",
   "pygments_lexer": "ipython3",
   "version": "3.7.4"
  }
 },
 "nbformat": 4,
 "nbformat_minor": 2
}
